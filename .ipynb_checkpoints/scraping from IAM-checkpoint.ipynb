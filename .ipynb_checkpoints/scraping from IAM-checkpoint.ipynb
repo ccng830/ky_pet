{
 "cells": [
  {
   "cell_type": "code",
   "execution_count": 69,
   "id": "2604e1bf",
   "metadata": {
    "scrolled": true
   },
   "outputs": [],
   "source": [
    "import requests\n",
    "from bs4 import BeautifulSoup\n",
    "import json\n",
    "import os\n",
    "from urllib.parse import urljoin\n",
    "\n",
    "url = \"https://www.iam.gov.mo/canil/c/catchcat/list.aspx\"\n",
    "\n",
    "# 发送HTTP请求\n",
    "response = requests.get(url)"
   ]
  },
  {
   "cell_type": "code",
   "execution_count": 106,
   "id": "bdcbe2a8",
   "metadata": {},
   "outputs": [],
   "source": [
    "def download_animal_data(animal_table):\n",
    "    temp_id = animal_table.find('td', string='臨時檔案編號：').find_next('td').text.strip()\n",
    "    cabin_id = animal_table.find('td', {'colspan': '2'}).text\n",
    "    capture_date = animal_table.find('td', string='捕捉日期：').find_next('td').text.strip()\n",
    "    capture_time = animal_table.find('td', string='捕捉時間：').find_next('td').text.strip()\n",
    "    capture_location = animal_table.find('td', string='捕捉地點：').find_next('td').text.strip()\n",
    "    capture_datestr = f\"{capture_time} {capture_date}\"\n",
    "    link_element = table.find('td', class_='detailtd').find('a')\n",
    "    link = urljoin(url, link_element['href'])\n",
    "\n",
    "    data = {\n",
    "        'temp_id': temp_id,\n",
    "        'cabin_id': cabin_id,\n",
    "        'capture_datestr': capture_datestr,\n",
    "        'capture_location': capture_location,\n",
    "        'link': link\n",
    "    }\n",
    "    \n",
    "    if '大學' in capture_location:\n",
    "        save_path = f'UM_cat_dataset/query/{temp_id}'\n",
    "        os.makedirs(save_path, exist_ok=True)\n",
    "\n",
    "        json_filename = f'{save_path}/IAM_cat_info_{temp_id}.json'\n",
    "        with open(json_filename, 'w', encoding='utf-8') as json_file:\n",
    "            json.dump(data, json_file, ensure_ascii=False, indent=2)\n",
    "\n",
    "        photo_url = urljoin(url, animal_table.find('img', class_='animalphoto')['src'])\n",
    "        photo_response = requests.get(photo_url)\n",
    "        photo_filename = f\"{save_path}/{photo_url.split('/')[-1].replace('.jpg', '')}.jpg\"\n",
    "        with open(photo_filename, 'wb') as photo_file:\n",
    "            photo_file.write(photo_response.content)\n",
    "\n",
    "        print(f\"[INFO] 保存至: {json_filename} {capture_location}\")\n",
    "    "
   ]
  },
  {
   "cell_type": "code",
   "execution_count": 107,
   "id": "53d17ce8",
   "metadata": {},
   "outputs": [
    {
     "name": "stdout",
     "output_type": "stream",
     "text": [
      "[INFO] 保存至: UM_cat_dataset/query/20240115/IAM_cat_info_20240115.json 大學大馬路\n",
      "[INFO] 保存至: UM_cat_dataset/query/20240115BT1/IAM_cat_info_20240115BT1.json 大學大馬路\n",
      "[INFO] 保存至: UM_cat_dataset/query/20240116BT1/IAM_cat_info_20240116BT1.json 大學大馬路\n",
      "[INFO] 保存至: UM_cat_dataset/query/20240117A/IAM_cat_info_20240117A.json 大學大馬路\n"
     ]
    }
   ],
   "source": [
    "# 检查请求是否成功\n",
    "if response.status_code == 200:\n",
    "    # 使用BeautifulSoup解析HTML内容\n",
    "    soup = BeautifulSoup(response.text, 'html.parser')\n",
    "\n",
    "    # 查找具有特定类名的表格\n",
    "    animal_tables = soup.find_all('table', class_='animalboxtable')\n",
    "    \n",
    "    if animal_tables:\n",
    "        for animal_table in animal_tables:\n",
    "            download_animal_data(animal_table)\n",
    "    else:\n",
    "        print(\"未找到表格\")\n",
    "else:\n",
    "    print(f\"Fail: {response.status_code}\")\n"
   ]
  },
  {
   "cell_type": "code",
   "execution_count": null,
   "id": "9ce2e0b6",
   "metadata": {},
   "outputs": [],
   "source": []
  },
  {
   "cell_type": "code",
   "execution_count": null,
   "id": "bdb20ba8",
   "metadata": {},
   "outputs": [],
   "source": []
  }
 ],
 "metadata": {
  "kernelspec": {
   "display_name": "Python 3 (ipykernel)",
   "language": "python",
   "name": "python3"
  },
  "language_info": {
   "codemirror_mode": {
    "name": "ipython",
    "version": 3
   },
   "file_extension": ".py",
   "mimetype": "text/x-python",
   "name": "python",
   "nbconvert_exporter": "python",
   "pygments_lexer": "ipython3",
   "version": "3.8.18"
  },
  "toc": {
   "base_numbering": 1,
   "nav_menu": {},
   "number_sections": true,
   "sideBar": true,
   "skip_h1_title": false,
   "title_cell": "Table of Contents",
   "title_sidebar": "Contents",
   "toc_cell": false,
   "toc_position": {},
   "toc_section_display": true,
   "toc_window_display": false
  }
 },
 "nbformat": 4,
 "nbformat_minor": 5
}
